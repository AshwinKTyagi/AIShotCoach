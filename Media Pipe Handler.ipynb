{
 "cells": [
  {
   "cell_type": "markdown",
   "id": "a7b99cf0",
   "metadata": {},
   "source": [
    "# MediaPipe Handler"
   ]
  },
  {
   "cell_type": "code",
   "execution_count": null,
   "id": "fdd51d7c",
   "metadata": {},
   "outputs": [],
   "source": [
    "import mediapipe as mp\n",
    "from mediapipe.tasks import pythonython\n",
    "from mediapipe.tasks.python import vision"
   ]
  },
  {
   "cell_type": "code",
   "execution_count": null,
   "id": "b221f365",
   "metadata": {},
   "outputs": [],
   "source": [
    "model_path = '/'"
   ]
  },
  {
   "cell_type": "code",
   "execution_count": null,
   "id": "74d56999",
   "metadata": {},
   "outputs": [],
   "source": []
  }
 ],
 "metadata": {
  "kernelspec": {
   "display_name": "Python 3 (ipykernel)",
   "language": "python",
   "name": "python3"
  },
  "language_info": {
   "codemirror_mode": {
    "name": "ipython",
    "version": 3
   },
   "file_extension": ".py",
   "mimetype": "text/x-python",
   "name": "python",
   "nbconvert_exporter": "python",
   "pygments_lexer": "ipython3",
   "version": "3.11.7"
  }
 },
 "nbformat": 4,
 "nbformat_minor": 5
}
